{
 "cells": [
  {
   "cell_type": "markdown",
   "id": "562d9cd0",
   "metadata": {},
   "source": [
    "## Experimentos de Machine Learning\n",
    "### Utilizaremos a Biblioteca ScikitLearn"
   ]
  },
  {
   "cell_type": "code",
   "execution_count": 41,
   "id": "6d553cab",
   "metadata": {},
   "outputs": [],
   "source": [
    "from sklearn.ensemble import GradientBoostingClassifier\n",
    "from sklearn.ensemble import RandomForestClassifier\n",
    "from sklearn.neighbors import KNeighborsClassifier\n",
    "from sklearn.neural_network import MLPClassifier\n",
    "from sklearn.svm import SVC\n",
    "from sklearn.gaussian_process import GaussianProcessClassifier\n",
    "from sklearn.naive_bayes import GaussianNB\n",
    "from sklearn.discriminant_analysis import QuadraticDiscriminantAnalysis\n",
    "\n",
    "from sklearn.model_selection import train_test_split\n",
    "from sklearn.metrics import classification_report, roc_curve, roc_auc_score\n",
    "\n",
    "from sklearn.preprocessing import StandardScaler, RobustScaler, QuantileTransformer"
   ]
  },
  {
   "cell_type": "code",
   "execution_count": 54,
   "id": "473c151c",
   "metadata": {},
   "outputs": [],
   "source": [
    "# separando target das variáveis características\n",
    "Y = data['inadimplente']\n",
    "X = data.drop('inadimplente', axis=1)\n",
    "\n",
    "\n",
    "\n",
    "# Normalizando as características:\n",
    "X_st = StandardScaler().fit_transform(X)\n",
    "X_rb = RobustScaler().fit_transform(X)\n",
    "X_qt_u = QuantileTransformer(output_distribution='uniform').fit_transform(X)\n",
    "X_qt_n = QuantileTransformer(output_distribution='normal').fit_transform(X)"
   ]
  },
  {
   "cell_type": "code",
   "execution_count": 55,
   "id": "267a8051",
   "metadata": {},
   "outputs": [],
   "source": [
    "x_train, x_test, y_train, y_test = train_test_split(X_qt_n,Y, random_state=0, test_size=.20)"
   ]
  },
  {
   "cell_type": "code",
   "execution_count": 56,
   "id": "1fea0b34",
   "metadata": {},
   "outputs": [],
   "source": [
    "def model_assess(model, name='Default'):\n",
    "    model.fit(x_train,y_train)\n",
    "    preds = model.predict(x_test)\n",
    "    #preds_proba = model.predict_proba(x_test)\n",
    "    print('          ', name, '\\n',\n",
    "    classification_report(y_test, model.predict(x_test)))"
   ]
  },
  {
   "cell_type": "code",
   "execution_count": null,
   "id": "135bc84d",
   "metadata": {},
   "outputs": [
    {
     "name": "stdout",
     "output_type": "stream",
     "text": [
      "           Gradient Boosting \n",
      "               precision    recall  f1-score   support\n",
      "\n",
      "           0       0.94      0.99      0.97     16451\n",
      "           1       0.59      0.19      0.29      1197\n",
      "\n",
      "    accuracy                           0.94     17648\n",
      "   macro avg       0.76      0.59      0.63     17648\n",
      "weighted avg       0.92      0.94      0.92     17648\n",
      "\n",
      "           Random Forest \n",
      "               precision    recall  f1-score   support\n",
      "\n",
      "           0       0.94      0.99      0.97     16451\n",
      "           1       0.55      0.19      0.28      1197\n",
      "\n",
      "    accuracy                           0.93     17648\n",
      "   macro avg       0.74      0.59      0.62     17648\n",
      "weighted avg       0.92      0.93      0.92     17648\n",
      "\n",
      "           K-Nearest Neighbor \n",
      "               precision    recall  f1-score   support\n",
      "\n",
      "           0       0.94      0.98      0.96     16451\n",
      "           1       0.47      0.21      0.29      1197\n",
      "\n",
      "    accuracy                           0.93     17648\n",
      "   macro avg       0.71      0.59      0.62     17648\n",
      "weighted avg       0.91      0.93      0.92     17648\n",
      "\n",
      "           Multi Layer Perceptron \n",
      "               precision    recall  f1-score   support\n",
      "\n",
      "           0       0.94      0.99      0.97     16451\n",
      "           1       0.57      0.17      0.26      1197\n",
      "\n",
      "    accuracy                           0.93     17648\n",
      "   macro avg       0.75      0.58      0.61     17648\n",
      "weighted avg       0.92      0.93      0.92     17648\n",
      "\n",
      "           Support Vector Machine \n",
      "               precision    recall  f1-score   support\n",
      "\n",
      "           0       0.94      0.99      0.97     16451\n",
      "           1       0.60      0.14      0.22      1197\n",
      "\n",
      "    accuracy                           0.94     17648\n",
      "   macro avg       0.77      0.57      0.60     17648\n",
      "weighted avg       0.92      0.94      0.92     17648\n",
      "\n"
     ]
    }
   ],
   "source": [
    "# Base Line Performance\n",
    "\n",
    "gbc = GradientBoostingClassifier()\n",
    "model_assess(gbc, \"Gradient Boosting\")\n",
    "\n",
    "rf = RandomForestClassifier()\n",
    "model_assess(rf, \"Random Forest\")\n",
    "\n",
    "knn = KNeighborsClassifier()\n",
    "model_assess(knn, \"K-Nearest Neighbor\")\n",
    "\n",
    "mlp = MLPClassifier()\n",
    "model_assess(mlp, \"Multi Layer Perceptron\")\n",
    "\n",
    "svc = SVC()\n",
    "model_assess(svc, \"Support Vector Machine\")\n",
    "\n",
    "gpc = GaussianProcessClassifier()\n",
    "model_assess(gpc, \"Gaussian Classifier\")\n",
    "\n",
    "nb = GaussianNB()\n",
    "model_assess(nb, \"Naive Bayes\")\n",
    "\n",
    "qda = QuadraticDiscriminantAnalysis()\n",
    "model_assess(qda, \"Quadratic Discriminant Analysis\")\n"
   ]
  },
  {
   "cell_type": "code",
   "execution_count": null,
   "id": "c3cd7999",
   "metadata": {},
   "outputs": [],
   "source": []
  },
  {
   "cell_type": "code",
   "execution_count": null,
   "id": "f59d9a92",
   "metadata": {},
   "outputs": [],
   "source": []
  }
 ],
 "metadata": {
  "kernelspec": {
   "display_name": "Python 3",
   "language": "python",
   "name": "python3"
  },
  "language_info": {
   "codemirror_mode": {
    "name": "ipython",
    "version": 3
   },
   "file_extension": ".py",
   "mimetype": "text/x-python",
   "name": "python",
   "nbconvert_exporter": "python",
   "pygments_lexer": "ipython3",
   "version": "3.8.8"
  }
 },
 "nbformat": 4,
 "nbformat_minor": 5
}
